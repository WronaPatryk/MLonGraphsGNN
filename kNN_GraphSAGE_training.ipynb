{
 "cells": [
  {
   "cell_type": "code",
   "execution_count": 1,
   "metadata": {},
   "outputs": [],
   "source": [
    "# libraries\n",
    "import pandas as pd\n",
    "import networkx as nx\n",
    "from source.utils import train_val_test_labels, labels_to_numbers, load_data_df\n",
    "from source.structure_modeling import torch_geometric_data_from_graph\n",
    "from source.models import GraphSAGE, GraphSAGE2, train_model"
   ]
  },
  {
   "cell_type": "markdown",
   "metadata": {},
   "source": [
    "## Labels"
   ]
  },
  {
   "cell_type": "code",
   "execution_count": 2,
   "metadata": {},
   "outputs": [],
   "source": [
    "spectr_dir = \"spectrograms/\"\n",
    "labels_train, labels_valid, labels_test = train_val_test_labels(spectr_dir, \"spectr_train_list.txt\", \"spectr_valid_list.txt\", \"spectr_test_list.txt\", index_col=0, header=0, pos=1)\n",
    "labels = labels_train + labels_valid + labels_test\n",
    "label_names, labels_nr = labels_to_numbers(labels)"
   ]
  },
  {
   "cell_type": "markdown",
   "metadata": {},
   "source": [
    "## Datasets"
   ]
  },
  {
   "cell_type": "code",
   "execution_count": null,
   "metadata": {},
   "outputs": [],
   "source": [
    "raw_audio_df = load_data_df(\"data/raw_audio/\")"
   ]
  },
  {
   "cell_type": "code",
   "execution_count": 3,
   "metadata": {},
   "outputs": [],
   "source": [
    "spectr2_dir = \"data/spectrogram2/\"\n",
    "train_df = pd.read_csv(spectr2_dir+\"train.csv\", header = None)\n",
    "valid_df = pd.read_csv(spectr2_dir+\"valid.csv\", header = None)\n",
    "test_df = pd.read_csv(spectr2_dir+\"test.csv\", header = None)\n",
    "df = pd.concat([train_df, valid_df, test_df])"
   ]
  },
  {
   "cell_type": "markdown",
   "metadata": {},
   "source": [
    "# Building graph from the data points"
   ]
  },
  {
   "cell_type": "code",
   "execution_count": 4,
   "metadata": {},
   "outputs": [
    {
     "ename": "FileNotFoundError",
     "evalue": "[Errno 2] No such file or directory: 'graphs/spect2_kNN.adjlist'",
     "output_type": "error",
     "traceback": [
      "\u001b[1;31m---------------------------------------------------------------------------\u001b[0m",
      "\u001b[1;31mFileNotFoundError\u001b[0m                         Traceback (most recent call last)",
      "Cell \u001b[1;32mIn[4], line 1\u001b[0m\n\u001b[1;32m----> 1\u001b[0m G \u001b[39m=\u001b[39m nx\u001b[39m.\u001b[39;49mread_adjlist(\u001b[39m\"\u001b[39;49m\u001b[39mgraphs/spect2_kNN.adjlist\u001b[39;49m\u001b[39m\"\u001b[39;49m)\n",
      "File \u001b[1;32mc:\\Users\\marty\\AppData\\Local\\Programs\\Python\\Python39\\lib\\site-packages\\networkx\\utils\\decorators.py:766\u001b[0m, in \u001b[0;36margmap.__call__.<locals>.func\u001b[1;34m(_argmap__wrapper, *args, **kwargs)\u001b[0m\n\u001b[0;32m    765\u001b[0m \u001b[39mdef\u001b[39;00m \u001b[39mfunc\u001b[39m(\u001b[39m*\u001b[39margs, __wrapper\u001b[39m=\u001b[39m\u001b[39mNone\u001b[39;00m, \u001b[39m*\u001b[39m\u001b[39m*\u001b[39mkwargs):\n\u001b[1;32m--> 766\u001b[0m     \u001b[39mreturn\u001b[39;00m argmap\u001b[39m.\u001b[39m_lazy_compile(__wrapper)(\u001b[39m*\u001b[39margs, \u001b[39m*\u001b[39m\u001b[39m*\u001b[39mkwargs)\n",
      "File \u001b[1;32m<class 'networkx.utils.decorators.argmap'> compilation 5:3\u001b[0m, in \u001b[0;36margmap_read_adjlist_1\u001b[1;34m(path, comments, delimiter, create_using, nodetype, encoding)\u001b[0m\n\u001b[0;32m      1\u001b[0m \u001b[39mimport\u001b[39;00m \u001b[39mbz2\u001b[39;00m\n\u001b[0;32m      2\u001b[0m \u001b[39mimport\u001b[39;00m \u001b[39mcollections\u001b[39;00m\n\u001b[1;32m----> 3\u001b[0m \u001b[39mimport\u001b[39;00m \u001b[39mgzip\u001b[39;00m\n\u001b[0;32m      4\u001b[0m \u001b[39mimport\u001b[39;00m \u001b[39minspect\u001b[39;00m\n\u001b[0;32m      5\u001b[0m \u001b[39mimport\u001b[39;00m \u001b[39mitertools\u001b[39;00m\n",
      "File \u001b[1;32mc:\\Users\\marty\\AppData\\Local\\Programs\\Python\\Python39\\lib\\site-packages\\networkx\\utils\\decorators.py:189\u001b[0m, in \u001b[0;36mopen_file.<locals>._open_file\u001b[1;34m(path)\u001b[0m\n\u001b[0;32m    185\u001b[0m \u001b[39melse\u001b[39;00m:\n\u001b[0;32m    186\u001b[0m     \u001b[39m# could be None, or a file handle, in which case the algorithm will deal with it\u001b[39;00m\n\u001b[0;32m    187\u001b[0m     \u001b[39mreturn\u001b[39;00m path, \u001b[39mlambda\u001b[39;00m: \u001b[39mNone\u001b[39;00m\n\u001b[1;32m--> 189\u001b[0m fobj \u001b[39m=\u001b[39m _dispatch_dict[ext](path, mode\u001b[39m=\u001b[39;49mmode)\n\u001b[0;32m    190\u001b[0m \u001b[39mreturn\u001b[39;00m fobj, \u001b[39mlambda\u001b[39;00m: fobj\u001b[39m.\u001b[39mclose()\n",
      "\u001b[1;31mFileNotFoundError\u001b[0m: [Errno 2] No such file or directory: 'graphs/spect2_kNN.adjlist'"
     ]
    }
   ],
   "source": [
    "G = nx.read_adjlist(\"graphs/spect2_kNN.adjlist\")"
   ]
  },
  {
   "cell_type": "markdown",
   "metadata": {},
   "source": [
    "## Create torch_geometric.data"
   ]
  },
  {
   "cell_type": "code",
   "execution_count": null,
   "metadata": {},
   "outputs": [],
   "source": [
    "data = torch_geometric_data_from_graph(G, df, labels_nr, len(labels_train), len(labels_valid), len(labels_test))"
   ]
  },
  {
   "cell_type": "code",
   "execution_count": null,
   "metadata": {},
   "outputs": [
    {
     "name": "stdout",
     "output_type": "stream",
     "text": [
      "Number of nodes: 23682\n",
      "Number of edges: 151290\n",
      "Number of features: 64\n",
      "Number of classes: 10\n",
      "Average node degree: 6.39\n",
      "Number of training nodes: 18538\n",
      "Number of validation nodes: 2567\n",
      "Number of testing nodes: 2577\n",
      "Training node label rate: 0.78\n",
      "Has isolated nodes: False\n",
      "Has self-loops: False\n",
      "Is undirected: True\n"
     ]
    }
   ],
   "source": [
    "# Gather some statistics about the graph.\n",
    "print(f'Number of nodes: {data.num_nodes}')\n",
    "print(f'Number of edges: {data.num_edges}')\n",
    "print(f'Number of features: {data.num_features}')\n",
    "print(f'Number of classes: {data.num_classes}')\n",
    "print(f'Average node degree: {data.num_edges / data.num_nodes:.2f}')\n",
    "print(f'Number of training nodes: {data.train_mask.sum()}')\n",
    "print(f'Number of validation nodes: {data.valid_mask.sum()}')\n",
    "print(f'Number of testing nodes: {data.test_mask.sum()}')\n",
    "print(f'Training node label rate: {int(data.train_mask.sum()) / data.num_nodes:.2f}')\n",
    "print(f'Has isolated nodes: {data.has_isolated_nodes()}')\n",
    "print(f'Has self-loops: {data.has_self_loops()}')\n",
    "print(f'Is undirected: {data.is_undirected()}')"
   ]
  },
  {
   "cell_type": "markdown",
   "metadata": {},
   "source": []
  }
 ],
 "metadata": {
  "kernelspec": {
   "display_name": "Python 3",
   "language": "python",
   "name": "python3"
  },
  "language_info": {
   "codemirror_mode": {
    "name": "ipython",
    "version": 3
   },
   "file_extension": ".py",
   "mimetype": "text/x-python",
   "name": "python",
   "nbconvert_exporter": "python",
   "pygments_lexer": "ipython3",
   "version": "3.9.0"
  },
  "orig_nbformat": 4
 },
 "nbformat": 4,
 "nbformat_minor": 2
}
