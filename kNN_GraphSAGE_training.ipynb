{
 "cells": [
  {
   "cell_type": "code",
   "execution_count": 30,
   "metadata": {},
   "outputs": [],
   "source": [
    "# libraries\n",
    "import numpy as np\n",
    "import pandas as pd\n",
    "import networkx as nx\n",
    "from source.utils import train_val_test_labels, labels_to_numbers, load_data_df, describe_pyg_data, visualize\n",
    "from source.structure_modeling import torch_geometric_data_from_graph\n",
    "from source.models import GraphSAGE, GraphSAGE2, train_model, test"
   ]
  },
  {
   "attachments": {},
   "cell_type": "markdown",
   "metadata": {},
   "source": [
    "## Labels"
   ]
  },
  {
   "cell_type": "code",
   "execution_count": 2,
   "metadata": {},
   "outputs": [],
   "source": [
    "audio_dir=\"audio/\"\n",
    "labels_train, labels_valid, labels_test = train_val_test_labels(audio_dir, \"training_list.txt\", \"validation_list.txt\", \"testing_list.txt\", index_col=None, header=None, pos=0)\n",
    "labels = labels_train + labels_valid + labels_test\n",
    "label_names, labels_nr = labels_to_numbers(labels)"
   ]
  },
  {
   "cell_type": "code",
   "execution_count": 3,
   "metadata": {},
   "outputs": [],
   "source": [
    "spectr_dir = \"spectrograms/\"\n",
    "spectr_labels_train, spectr_labels_valid, spectr_labels_test = train_val_test_labels(spectr_dir, \"spectr_train_list.txt\", \"spectr_valid_list.txt\", \"spectr_test_list.txt\", index_col=0, header=0, pos=1)\n",
    "spectr_labels = spectr_labels_train + spectr_labels_valid + spectr_labels_test\n",
    "spectr_label_names, spectr_labels_nr = labels_to_numbers(spectr_labels)"
   ]
  },
  {
   "attachments": {},
   "cell_type": "markdown",
   "metadata": {},
   "source": [
    "## Datasets"
   ]
  },
  {
   "cell_type": "code",
   "execution_count": 4,
   "metadata": {},
   "outputs": [],
   "source": [
    "raw_audio_df = load_data_df(\"data/raw_audio/\")\n",
    "spectr2_df = load_data_df(\"data/spectrogram2/\")\n",
    "spectr3_df = load_data_df(\"data/spectrogram3/\")"
   ]
  },
  {
   "attachments": {},
   "cell_type": "markdown",
   "metadata": {},
   "source": [
    "## Graphs"
   ]
  },
  {
   "cell_type": "code",
   "execution_count": 5,
   "metadata": {},
   "outputs": [],
   "source": [
    "raw_audio_G = nx.read_adjlist(\"graphs/raw_audio_kNN.adjlist\")\n",
    "spectr2_G = nx.read_adjlist(\"graphs/spectr2_kNN.adjlist\")\n",
    "spectr3_G = nx.read_adjlist(\"graphs/spectr3_kNN.adjlist\")"
   ]
  },
  {
   "attachments": {},
   "cell_type": "markdown",
   "metadata": {},
   "source": [
    "## Create torch_geometric.data"
   ]
  },
  {
   "cell_type": "code",
   "execution_count": 9,
   "metadata": {},
   "outputs": [
    {
     "name": "stdout",
     "output_type": "stream",
     "text": [
      "Number of nodes: 23682\n",
      "Number of edges: 185200\n",
      "Number of features: 1600\n",
      "Number of classes: 10\n",
      "Average node degree: 7.82\n",
      "Number of training nodes: 18538\n",
      "Number of validation nodes: 2567\n",
      "Number of testing nodes: 2577\n",
      "Training node label rate: 0.78\n",
      "Has isolated nodes: False\n",
      "Has self-loops: False\n",
      "Is undirected: True\n"
     ]
    }
   ],
   "source": [
    "raw_audio_data = torch_geometric_data_from_graph(raw_audio_G, raw_audio_df, labels_nr, len(labels_train), len(labels_valid), len(labels_test))\n",
    "describe_pyg_data(raw_audio_data)"
   ]
  },
  {
   "cell_type": "code",
   "execution_count": 11,
   "metadata": {},
   "outputs": [
    {
     "name": "stdout",
     "output_type": "stream",
     "text": [
      "Number of nodes: 23682\n",
      "Number of edges: 151290\n",
      "Number of features: 64\n",
      "Number of classes: 10\n",
      "Average node degree: 6.39\n",
      "Number of training nodes: 18538\n",
      "Number of validation nodes: 2567\n",
      "Number of testing nodes: 2577\n",
      "Training node label rate: 0.78\n",
      "Has isolated nodes: False\n",
      "Has self-loops: False\n",
      "Is undirected: True\n"
     ]
    }
   ],
   "source": [
    "spectr2_data = torch_geometric_data_from_graph(spectr2_G, spectr2_df, spectr_labels_nr, len(spectr_labels_train), len(spectr_labels_valid), len(spectr_labels_test))\n",
    "describe_pyg_data(spectr2_data)"
   ]
  },
  {
   "cell_type": "code",
   "execution_count": 10,
   "metadata": {},
   "outputs": [
    {
     "name": "stdout",
     "output_type": "stream",
     "text": [
      "Number of nodes: 23682\n",
      "Number of edges: 155866\n",
      "Number of features: 256\n",
      "Number of classes: 10\n",
      "Average node degree: 6.58\n",
      "Number of training nodes: 18538\n",
      "Number of validation nodes: 2567\n",
      "Number of testing nodes: 2577\n",
      "Training node label rate: 0.78\n",
      "Has isolated nodes: False\n",
      "Has self-loops: False\n",
      "Is undirected: True\n"
     ]
    }
   ],
   "source": [
    "spectr3_data = torch_geometric_data_from_graph(spectr3_G, spectr3_df, spectr_labels_nr, len(spectr_labels_train), len(spectr_labels_valid), len(spectr_labels_test))\n",
    "describe_pyg_data(spectr3_data)"
   ]
  },
  {
   "attachments": {},
   "cell_type": "markdown",
   "metadata": {},
   "source": [
    "## Models"
   ]
  },
  {
   "attachments": {},
   "cell_type": "markdown",
   "metadata": {},
   "source": [
    "## Raw files + kNN "
   ]
  },
  {
   "cell_type": "code",
   "execution_count": 12,
   "metadata": {},
   "outputs": [
    {
     "name": "stdout",
     "output_type": "stream",
     "text": [
      "Epoch: 000, Train loss: 413.6495, Valid Acc: 0.1063\n",
      "Epoch: 001, Train loss: 2063.6204, Valid Acc: 0.1001\n",
      "Epoch: 002, Train loss: 2747.2488, Valid Acc: 0.1036\n",
      "Epoch: 003, Train loss: 2429.0723, Valid Acc: 0.0931\n",
      "Epoch: 004, Train loss: 1884.4980, Valid Acc: 0.0978\n",
      "Epoch: 005, Train loss: 1945.1971, Valid Acc: 0.1048\n",
      "Epoch: 006, Train loss: 1791.4187, Valid Acc: 0.1067\n",
      "Early stopping at epoch 6\n"
     ]
    }
   ],
   "source": [
    "raw_audio_knn_model = GraphSAGE(raw_audio_data, 256)\n",
    "raw_audio_knn_metrics = train_model(raw_audio_knn_model, raw_audio_data, 100, es_patience=10, es_threshold=0.001)\n",
    "raw_audio_knn_metrics.to_csv(\"metrics/raw_audio_knn.csv\", index=None)"
   ]
  },
  {
   "cell_type": "code",
   "execution_count": 22,
   "metadata": {},
   "outputs": [
    {
     "data": {
      "text/plain": [
       "SAGEConv(256, 10, aggr=mean)"
      ]
     },
     "execution_count": 22,
     "metadata": {},
     "output_type": "execute_result"
    }
   ],
   "source": [
    "raw_audio_knn_model.conv2."
   ]
  },
  {
   "cell_type": "code",
   "execution_count": 13,
   "metadata": {},
   "outputs": [
    {
     "data": {
      "text/plain": [
       "0.09701202949165696"
      ]
     },
     "execution_count": 13,
     "metadata": {},
     "output_type": "execute_result"
    }
   ],
   "source": [
    "test(raw_audio_knn_model, raw_audio_data)"
   ]
  },
  {
   "cell_type": "code",
   "execution_count": 14,
   "metadata": {},
   "outputs": [
    {
     "name": "stdout",
     "output_type": "stream",
     "text": [
      "Epoch: 000, Train loss: 4.1580, Valid Acc: 0.1414\n",
      "Epoch: 001, Train loss: 9.3317, Valid Acc: 0.1289\n",
      "Epoch: 002, Train loss: 6.6050, Valid Acc: 0.1554\n",
      "Epoch: 003, Train loss: 3.9215, Valid Acc: 0.1578\n",
      "Epoch: 004, Train loss: 2.7383, Valid Acc: 0.1741\n",
      "Epoch: 005, Train loss: 2.3263, Valid Acc: 0.1488\n",
      "Epoch: 006, Train loss: 2.2447, Valid Acc: 0.1480\n",
      "Epoch: 007, Train loss: 2.2256, Valid Acc: 0.1434\n",
      "Epoch: 008, Train loss: 2.2088, Valid Acc: 0.1414\n",
      "Epoch: 009, Train loss: 2.1962, Valid Acc: 0.1422\n",
      "Epoch: 010, Train loss: 2.1815, Valid Acc: 0.1508\n",
      "Epoch: 011, Train loss: 2.1543, Valid Acc: 0.1574\n",
      "Epoch: 012, Train loss: 2.1372, Valid Acc: 0.1671\n",
      "Epoch: 013, Train loss: 2.1190, Valid Acc: 0.1808\n",
      "Epoch: 014, Train loss: 2.0935, Valid Acc: 0.1839\n",
      "Epoch: 015, Train loss: 2.0730, Valid Acc: 0.1995\n",
      "Epoch: 016, Train loss: 2.0472, Valid Acc: 0.2287\n",
      "Epoch: 017, Train loss: 2.0231, Valid Acc: 0.2392\n",
      "Epoch: 018, Train loss: 2.0058, Valid Acc: 0.2333\n",
      "Epoch: 019, Train loss: 1.9846, Valid Acc: 0.2411\n",
      "Epoch: 020, Train loss: 1.9651, Valid Acc: 0.2489\n",
      "Epoch: 021, Train loss: 1.9426, Valid Acc: 0.2497\n",
      "Epoch: 022, Train loss: 1.9268, Valid Acc: 0.2450\n",
      "Epoch: 023, Train loss: 1.8993, Valid Acc: 0.2485\n",
      "Epoch: 024, Train loss: 1.8931, Valid Acc: 0.2579\n",
      "Epoch: 025, Train loss: 1.8765, Valid Acc: 0.2633\n",
      "Epoch: 026, Train loss: 1.8608, Valid Acc: 0.2692\n",
      "Epoch: 027, Train loss: 1.8459, Valid Acc: 0.2637\n",
      "Epoch: 028, Train loss: 1.8300, Valid Acc: 0.2649\n",
      "Epoch: 029, Train loss: 1.8247, Valid Acc: 0.2672\n",
      "Epoch: 030, Train loss: 1.8027, Valid Acc: 0.2743\n",
      "Epoch: 031, Train loss: 1.7936, Valid Acc: 0.2711\n",
      "Epoch: 032, Train loss: 1.7951, Valid Acc: 0.2723\n",
      "Epoch: 033, Train loss: 1.7763, Valid Acc: 0.2727\n",
      "Epoch: 034, Train loss: 1.7632, Valid Acc: 0.2766\n",
      "Epoch: 035, Train loss: 1.7546, Valid Acc: 0.2817\n",
      "Epoch: 036, Train loss: 1.7484, Valid Acc: 0.2774\n",
      "Epoch: 037, Train loss: 1.7314, Valid Acc: 0.2797\n",
      "Epoch: 038, Train loss: 1.7347, Valid Acc: 0.2817\n",
      "Epoch: 039, Train loss: 1.7276, Valid Acc: 0.2805\n",
      "Epoch: 040, Train loss: 1.7154, Valid Acc: 0.2891\n",
      "Epoch: 041, Train loss: 1.7140, Valid Acc: 0.2906\n",
      "Epoch: 042, Train loss: 1.7074, Valid Acc: 0.2891\n",
      "Epoch: 043, Train loss: 1.7084, Valid Acc: 0.2906\n",
      "Epoch: 044, Train loss: 1.6926, Valid Acc: 0.2933\n",
      "Epoch: 045, Train loss: 1.6937, Valid Acc: 0.2933\n",
      "Epoch: 046, Train loss: 1.6823, Valid Acc: 0.2972\n",
      "Epoch: 047, Train loss: 1.6720, Valid Acc: 0.2984\n",
      "Epoch: 048, Train loss: 1.6728, Valid Acc: 0.2996\n",
      "Epoch: 049, Train loss: 1.6665, Valid Acc: 0.3031\n",
      "Epoch: 050, Train loss: 1.6508, Valid Acc: 0.3105\n",
      "Epoch: 051, Train loss: 1.6470, Valid Acc: 0.3144\n",
      "Epoch: 052, Train loss: 1.6542, Valid Acc: 0.3140\n",
      "Epoch: 053, Train loss: 1.6431, Valid Acc: 0.3198\n",
      "Epoch: 054, Train loss: 1.6376, Valid Acc: 0.3175\n",
      "Epoch: 055, Train loss: 1.6254, Valid Acc: 0.3163\n",
      "Epoch: 056, Train loss: 1.6321, Valid Acc: 0.3175\n",
      "Epoch: 057, Train loss: 1.6186, Valid Acc: 0.3210\n",
      "Epoch: 058, Train loss: 1.6112, Valid Acc: 0.3202\n",
      "Epoch: 059, Train loss: 1.6004, Valid Acc: 0.3249\n",
      "Epoch: 060, Train loss: 1.6155, Valid Acc: 0.3268\n",
      "Epoch: 061, Train loss: 1.5944, Valid Acc: 0.3296\n",
      "Epoch: 062, Train loss: 1.5915, Valid Acc: 0.3284\n",
      "Epoch: 063, Train loss: 1.5806, Valid Acc: 0.3311\n",
      "Epoch: 064, Train loss: 1.5813, Valid Acc: 0.3307\n",
      "Epoch: 065, Train loss: 1.5827, Valid Acc: 0.3284\n",
      "Epoch: 066, Train loss: 1.5653, Valid Acc: 0.3335\n",
      "Epoch: 067, Train loss: 1.5731, Valid Acc: 0.3276\n",
      "Epoch: 068, Train loss: 1.5657, Valid Acc: 0.3268\n",
      "Epoch: 069, Train loss: 1.5629, Valid Acc: 0.3335\n",
      "Early stopping at epoch 69\n"
     ]
    }
   ],
   "source": [
    "spectr2_knn_model = GraphSAGE(spectr2_data, 256)\n",
    "spectr2_knn_metrics = train_model(spectr2_knn_model, spectr2_data, 100, es_patience=10, es_threshold=0.001)\n",
    "spectr2_knn_metrics.to_csv(\"metrics/spectr2_knn.csv\", index=None)"
   ]
  },
  {
   "cell_type": "code",
   "execution_count": 15,
   "metadata": {},
   "outputs": [
    {
     "data": {
      "text/plain": [
       "0.3573923166472643"
      ]
     },
     "execution_count": 15,
     "metadata": {},
     "output_type": "execute_result"
    }
   ],
   "source": [
    "test(spectr2_knn_model, spectr2_data)"
   ]
  },
  {
   "cell_type": "code",
   "execution_count": 16,
   "metadata": {},
   "outputs": [
    {
     "name": "stdout",
     "output_type": "stream",
     "text": [
      "Epoch: 000, Train loss: 5.3805, Valid Acc: 0.1250\n",
      "Epoch: 001, Train loss: 20.3889, Valid Acc: 0.1145\n",
      "Epoch: 002, Train loss: 9.7058, Valid Acc: 0.1660\n",
      "Epoch: 003, Train loss: 4.1486, Valid Acc: 0.1457\n",
      "Epoch: 004, Train loss: 2.8536, Valid Acc: 0.1449\n",
      "Epoch: 005, Train loss: 2.3922, Valid Acc: 0.1434\n",
      "Epoch: 006, Train loss: 2.2077, Valid Acc: 0.1247\n",
      "Epoch: 007, Train loss: 2.1762, Valid Acc: 0.1375\n",
      "Epoch: 008, Train loss: 2.1786, Valid Acc: 0.1426\n",
      "Epoch: 009, Train loss: 2.1668, Valid Acc: 0.1414\n",
      "Epoch: 010, Train loss: 2.1577, Valid Acc: 0.1387\n",
      "Epoch: 011, Train loss: 2.1270, Valid Acc: 0.1445\n",
      "Epoch: 012, Train loss: 2.1028, Valid Acc: 0.1531\n",
      "Epoch: 013, Train loss: 2.0835, Valid Acc: 0.1539\n",
      "Epoch: 014, Train loss: 2.0616, Valid Acc: 0.1617\n",
      "Epoch: 015, Train loss: 2.0442, Valid Acc: 0.1621\n",
      "Epoch: 016, Train loss: 2.0200, Valid Acc: 0.1757\n",
      "Epoch: 017, Train loss: 1.9892, Valid Acc: 0.1924\n",
      "Epoch: 018, Train loss: 1.9750, Valid Acc: 0.1979\n",
      "Epoch: 019, Train loss: 1.9546, Valid Acc: 0.2022\n",
      "Epoch: 020, Train loss: 1.9500, Valid Acc: 0.2069\n",
      "Epoch: 021, Train loss: 1.9334, Valid Acc: 0.1959\n",
      "Epoch: 022, Train loss: 1.9013, Valid Acc: 0.1995\n",
      "Epoch: 023, Train loss: 1.8883, Valid Acc: 0.2174\n",
      "Epoch: 024, Train loss: 1.8776, Valid Acc: 0.2170\n",
      "Epoch: 025, Train loss: 1.8688, Valid Acc: 0.2174\n",
      "Epoch: 026, Train loss: 1.8543, Valid Acc: 0.2220\n",
      "Early stopping at epoch 26\n"
     ]
    }
   ],
   "source": [
    "spectr3_knn_model = GraphSAGE(spectr3_data, 256)\n",
    "spectr3_knn_metrics = train_model(spectr3_knn_model, spectr3_data, 100, es_patience=10, es_threshold=0.001)\n",
    "spectr3_knn_metrics.to_csv(\"metrics/spectr3_knn.csv\", index=None)"
   ]
  },
  {
   "cell_type": "code",
   "execution_count": 17,
   "metadata": {},
   "outputs": [
    {
     "data": {
      "text/plain": [
       "0.2394256887854094"
      ]
     },
     "execution_count": 17,
     "metadata": {},
     "output_type": "execute_result"
    }
   ],
   "source": [
    "test(spectr3_knn_model, spectr3_data)"
   ]
  }
 ],
 "metadata": {
  "kernelspec": {
   "display_name": "Python 3",
   "language": "python",
   "name": "python3"
  },
  "language_info": {
   "codemirror_mode": {
    "name": "ipython",
    "version": 3
   },
   "file_extension": ".py",
   "mimetype": "text/x-python",
   "name": "python",
   "nbconvert_exporter": "python",
   "pygments_lexer": "ipython3",
   "version": "3.9.0"
  },
  "orig_nbformat": 4
 },
 "nbformat": 4,
 "nbformat_minor": 2
}
