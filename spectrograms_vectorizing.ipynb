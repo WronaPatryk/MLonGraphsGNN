{
 "cells": [
  {
   "cell_type": "markdown",
   "id": "c5891fb0",
   "metadata": {},
   "source": [
    "# Spectrograms vectorizing\n",
    "\n",
    "- functions for conversion of spectrograms to vectors (average of each frequency & average for each window)"
   ]
  },
  {
   "cell_type": "code",
   "execution_count": 1,
   "id": "ef413dcb",
   "metadata": {},
   "outputs": [],
   "source": [
    "# libraries\n",
    "import numpy as np\n",
    "import pandas as pd\n",
    "import matplotlib.pyplot as plt\n",
    "\n",
    "from PIL import Image\n",
    "import matplotlib\n",
    "import random\n",
    "import time"
   ]
  },
  {
   "cell_type": "code",
   "execution_count": 10,
   "id": "14cab912",
   "metadata": {},
   "outputs": [],
   "source": [
    "# Loading of datasets\n",
    "\n",
    "spectr_train_list = pd.read_csv(\"spectr_train_list.txt\", index_col = 0).iloc[:,0].values.tolist()\n",
    "spectr_test_list = pd.read_csv(\"spectr_test_list.txt\", index_col = 0).iloc[:,0].values.tolist()\n",
    "spectr_valid_list = pd.read_csv(\"spectr_valid_list.txt\", index_col = 0).iloc[:,0].values.tolist()\n",
    "\n",
    "# labels_train, labels_test\n",
    "# spectrograms_train, spectrograms_test\n",
    "\n",
    "labels_train = []\n",
    "spectrograms_train = []\n",
    "\n",
    "for path in spectr_train_list:\n",
    "    labels_train.append(path.split(\"/\")[1])\n",
    "    \n",
    "    \n",
    "    rgb = matplotlib.image.imread(path)\n",
    "    gray = np.mean(rgb, -1)\n",
    "    spectrogram = (255*(gray - np.min(gray))/np.ptp(gray)).astype(int)  # [0, 255] scaled\n",
    "\n",
    "    spectrograms_train.append(spectrogram)\n",
    "\n",
    "labels_test = []\n",
    "spectrograms_test = []\n",
    "\n",
    "for path in spectr_test_list:\n",
    "    labels_test.append(path.split(\"/\")[1])\n",
    "    \n",
    "    rgb = matplotlib.image.imread(path)\n",
    "    gray = np.mean(rgb, -1)\n",
    "    spectrogram = (255*(gray - np.min(gray))/np.ptp(gray)).astype(int)  # [0, 255] scaled\n",
    "    \n",
    "    spectrograms_test.append(spectrogram)\n",
    "\n",
    "labels_valid = []\n",
    "spectrograms_valid = []\n",
    "\n",
    "for path in spectr_valid_list:\n",
    "    labels_valid.append(path.split(\"/\")[1])\n",
    "    \n",
    "    rgb = matplotlib.image.imread(path)\n",
    "    gray = np.mean(rgb, -1)\n",
    "    spectrogram = (255*(gray - np.min(gray))/np.ptp(gray)).astype(int)  # [0, 255] scaled\n",
    "    \n",
    "    spectrograms_valid.append(spectrogram)\n"
   ]
  },
  {
   "cell_type": "code",
   "execution_count": 6,
   "id": "b309b27c",
   "metadata": {},
   "outputs": [],
   "source": [
    "spectro = spectrograms_train[0]"
   ]
  },
  {
   "cell_type": "code",
   "execution_count": 4,
   "id": "13594fa0",
   "metadata": {},
   "outputs": [],
   "source": [
    "# # each value as a separate feature: # NOT USED, SEEMS NOT GOOD TO NOT MAKE USE OF PIXELS 2D POSITIONS\n",
    "# def s_vectorize1(s):\n",
    "#     return s.reshape(s.shape[0]*s.shape[1])\n"
   ]
  },
  {
   "cell_type": "code",
   "execution_count": 17,
   "id": "7686eda0",
   "metadata": {},
   "outputs": [
    {
     "data": {
      "text/plain": [
       "array([0, 0, 0, ..., 0, 0, 0])"
      ]
     },
     "execution_count": 17,
     "metadata": {},
     "output_type": "execute_result"
    }
   ],
   "source": [
    "# s_vectorize1(spectro) # 4096 values"
   ]
  },
  {
   "cell_type": "code",
   "execution_count": 5,
   "id": "d0afc005",
   "metadata": {},
   "outputs": [],
   "source": [
    "# means of rows of a spectrogram\n",
    "def s_vectorize2(s):\n",
    "    return np.mean(s, axis=1)\n"
   ]
  },
  {
   "cell_type": "code",
   "execution_count": 27,
   "id": "a7298d18",
   "metadata": {},
   "outputs": [
    {
     "data": {
      "text/plain": [
       "array([0.0000000e+00, 0.0000000e+00, 1.5625000e-02, 1.5625000e-02,\n",
       "       4.6875000e-02, 3.5937500e-01, 3.2812500e-01, 1.3281250e+00,\n",
       "       3.0937500e+00, 5.3125000e-01, 7.8125000e-02, 3.1250000e-02,\n",
       "       3.1250000e-02, 4.6875000e-02, 1.5625000e-02, 0.0000000e+00,\n",
       "       1.5625000e-02, 1.5625000e-02, 3.1250000e-02, 1.7187500e-01,\n",
       "       1.7187500e-01, 1.4218750e+00, 2.3281250e+00, 1.5312500e+00,\n",
       "       8.9062500e-01, 7.9687500e-01, 1.1406250e+00, 2.0468750e+00,\n",
       "       2.3593750e+00, 2.5468750e+00, 6.9843750e+00, 6.3750000e+00,\n",
       "       4.2812500e+00, 7.9843750e+00, 1.2234375e+01, 1.1796875e+01,\n",
       "       1.8828125e+01, 1.0578125e+01, 1.1875000e+01, 4.7812500e+00,\n",
       "       7.2031250e+00, 6.0156250e+00, 5.6718750e+00, 8.0156250e+00,\n",
       "       6.1093750e+00, 8.3593750e+00, 7.2968750e+00, 8.7656250e+00,\n",
       "       4.6406250e+00, 4.0156250e+00, 3.3750000e+00, 6.4062500e-01,\n",
       "       3.4375000e-01, 2.9687500e-01, 9.6875000e-01, 1.5625000e+00,\n",
       "       2.5468750e+00, 3.4062500e+00, 3.0781250e+00, 2.6718750e+00,\n",
       "       1.3125000e+00, 8.7500000e-01, 6.7187500e-01, 2.3437500e-01])"
      ]
     },
     "execution_count": 27,
     "metadata": {},
     "output_type": "execute_result"
    }
   ],
   "source": [
    "s_vectorize2(spectro) # 64 values"
   ]
  },
  {
   "cell_type": "code",
   "execution_count": 6,
   "id": "3dedc4f4",
   "metadata": {},
   "outputs": [],
   "source": [
    "# means of values inside each of 4x4 windows\n",
    "def s_vectorize3(s):\n",
    "    window_step_x = 4\n",
    "    window_step_y = 4\n",
    "    output_list = []\n",
    "    for i in range(0,s.shape[0],window_step_x):\n",
    "        for j in range(0,s.shape[1],window_step_y):\n",
    "            output_list.append(np.mean(s[i:(i+4),j:(j+4)]))\n",
    "            \n",
    "    return np.array(output_list)        \n"
   ]
  },
  {
   "cell_type": "code",
   "execution_count": 35,
   "id": "ca2fa653",
   "metadata": {},
   "outputs": [
    {
     "data": {
      "text/plain": [
       "array([0.00000e+00, 0.00000e+00, 0.00000e+00, 0.00000e+00, 0.00000e+00,\n",
       "       0.00000e+00, 6.25000e-02, 0.00000e+00, 6.25000e-02, 0.00000e+00,\n",
       "       0.00000e+00, 0.00000e+00, 0.00000e+00, 0.00000e+00, 0.00000e+00,\n",
       "       0.00000e+00, 0.00000e+00, 0.00000e+00, 0.00000e+00, 0.00000e+00,\n",
       "       0.00000e+00, 0.00000e+00, 0.00000e+00, 1.50000e+00, 3.50000e+00,\n",
       "       2.31250e+00, 9.37500e-01, 0.00000e+00, 0.00000e+00, 0.00000e+00,\n",
       "       0.00000e+00, 0.00000e+00, 0.00000e+00, 0.00000e+00, 0.00000e+00,\n",
       "       0.00000e+00, 0.00000e+00, 0.00000e+00, 0.00000e+00, 0.00000e+00,\n",
       "       1.31250e+00, 9.93750e+00, 3.68750e+00, 0.00000e+00, 0.00000e+00,\n",
       "       0.00000e+00, 0.00000e+00, 0.00000e+00, 0.00000e+00, 0.00000e+00,\n",
       "       0.00000e+00, 0.00000e+00, 0.00000e+00, 0.00000e+00, 0.00000e+00,\n",
       "       0.00000e+00, 0.00000e+00, 3.12500e-01, 6.25000e-02, 0.00000e+00,\n",
       "       0.00000e+00, 0.00000e+00, 0.00000e+00, 0.00000e+00, 0.00000e+00,\n",
       "       0.00000e+00, 0.00000e+00, 0.00000e+00, 0.00000e+00, 0.00000e+00,\n",
       "       0.00000e+00, 0.00000e+00, 6.25000e-02, 7.50000e-01, 1.25000e-01,\n",
       "       0.00000e+00, 0.00000e+00, 0.00000e+00, 0.00000e+00, 0.00000e+00,\n",
       "       0.00000e+00, 0.00000e+00, 0.00000e+00, 0.00000e+00, 0.00000e+00,\n",
       "       0.00000e+00, 0.00000e+00, 6.25000e-02, 3.81250e+00, 1.38750e+01,\n",
       "       4.06250e+00, 0.00000e+00, 0.00000e+00, 0.00000e+00, 0.00000e+00,\n",
       "       0.00000e+00, 0.00000e+00, 0.00000e+00, 0.00000e+00, 0.00000e+00,\n",
       "       0.00000e+00, 0.00000e+00, 0.00000e+00, 1.25000e+00, 1.20000e+01,\n",
       "       6.06250e+00, 1.87500e-01, 0.00000e+00, 0.00000e+00, 0.00000e+00,\n",
       "       0.00000e+00, 0.00000e+00, 0.00000e+00, 0.00000e+00, 0.00000e+00,\n",
       "       0.00000e+00, 0.00000e+00, 0.00000e+00, 0.00000e+00, 2.12500e+01,\n",
       "       4.33750e+01, 8.31250e+00, 1.25000e-01, 0.00000e+00, 0.00000e+00,\n",
       "       0.00000e+00, 0.00000e+00, 0.00000e+00, 0.00000e+00, 0.00000e+00,\n",
       "       0.00000e+00, 0.00000e+00, 0.00000e+00, 0.00000e+00, 3.06250e+00,\n",
       "       4.21875e+01, 5.00000e+01, 4.43125e+01, 5.56250e+00, 6.25000e-02,\n",
       "       0.00000e+00, 0.00000e+00, 0.00000e+00, 0.00000e+00, 0.00000e+00,\n",
       "       0.00000e+00, 0.00000e+00, 0.00000e+00, 0.00000e+00, 0.00000e+00,\n",
       "       3.18750e+00, 5.95000e+01, 8.69375e+01, 3.15000e+01, 2.93750e+00,\n",
       "       0.00000e+00, 1.25000e-01, 6.25000e-02, 0.00000e+00, 0.00000e+00,\n",
       "       0.00000e+00, 0.00000e+00, 0.00000e+00, 0.00000e+00, 0.00000e+00,\n",
       "       0.00000e+00, 2.06250e+00, 3.47500e+01, 5.56250e+01, 1.40625e+01,\n",
       "       7.50000e-01, 0.00000e+00, 6.25000e-02, 3.12500e-01, 0.00000e+00,\n",
       "       0.00000e+00, 0.00000e+00, 0.00000e+00, 0.00000e+00, 0.00000e+00,\n",
       "       0.00000e+00, 0.00000e+00, 2.62500e+00, 4.51875e+01, 5.71250e+01,\n",
       "       1.23125e+01, 4.37500e-01, 1.87500e-01, 6.87500e-01, 1.43750e+00,\n",
       "       1.87500e+00, 2.50000e-01, 0.00000e+00, 0.00000e+00, 0.00000e+00,\n",
       "       0.00000e+00, 0.00000e+00, 0.00000e+00, 1.25000e-01, 7.87500e+00,\n",
       "       1.08750e+01, 2.43750e+00, 1.25000e-01, 2.25000e+00, 3.18750e+00,\n",
       "       9.12500e+00, 1.43125e+01, 3.75000e-01, 0.00000e+00, 0.00000e+00,\n",
       "       0.00000e+00, 0.00000e+00, 0.00000e+00, 0.00000e+00, 0.00000e+00,\n",
       "       1.25000e-01, 1.31250e+00, 2.68750e+00, 4.37500e-01, 6.25000e-01,\n",
       "       2.37500e+00, 1.93750e+00, 2.56250e+00, 6.25000e-01, 0.00000e+00,\n",
       "       0.00000e+00, 0.00000e+00, 0.00000e+00, 0.00000e+00, 0.00000e+00,\n",
       "       0.00000e+00, 3.62500e+00, 1.01250e+01, 1.05000e+01, 1.25000e+00,\n",
       "       2.81250e+00, 9.68750e+00, 5.87500e+00, 2.93750e+00, 0.00000e+00,\n",
       "       0.00000e+00, 0.00000e+00, 0.00000e+00, 0.00000e+00, 0.00000e+00,\n",
       "       0.00000e+00, 0.00000e+00, 1.25000e-01, 3.00000e+00, 3.37500e+00,\n",
       "       3.12500e-01, 1.87500e+00, 2.50000e+00, 9.37500e-01, 2.50000e-01,\n",
       "       0.00000e+00])"
      ]
     },
     "execution_count": 35,
     "metadata": {},
     "output_type": "execute_result"
    }
   ],
   "source": [
    "s_vectorize3(spectro) # 4096 / window_step_x / window_step_y values --> 4096 /4 /4 values --> 256 values"
   ]
  },
  {
   "cell_type": "markdown",
   "id": "73d17e39",
   "metadata": {},
   "source": [
    "### VECTORIZATION 1 - too many features"
   ]
  },
  {
   "cell_type": "code",
   "execution_count": 11,
   "id": "4c3ccbe3",
   "metadata": {},
   "outputs": [
    {
     "ename": "KeyboardInterrupt",
     "evalue": "",
     "output_type": "error",
     "traceback": [
      "\u001b[1;31m---------------------------------------------------------------------------\u001b[0m",
      "\u001b[1;31mKeyboardInterrupt\u001b[0m                         Traceback (most recent call last)",
      "Cell \u001b[1;32mIn [11], line 7\u001b[0m\n\u001b[0;32m      4\u001b[0m \u001b[38;5;28;01mfor\u001b[39;00m s \u001b[38;5;129;01min\u001b[39;00m spectrograms_train:\n\u001b[0;32m      5\u001b[0m     listka\u001b[38;5;241m.\u001b[39mappend(s_vectorize1(s))\n\u001b[1;32m----> 7\u001b[0m data \u001b[38;5;241m=\u001b[39m \u001b[43mpd\u001b[49m\u001b[38;5;241;43m.\u001b[39;49m\u001b[43mDataFrame\u001b[49m\u001b[43m(\u001b[49m\u001b[43mlistka\u001b[49m\u001b[43m)\u001b[49m\n\u001b[0;32m      8\u001b[0m data\u001b[38;5;241m.\u001b[39mto_csv(\u001b[38;5;124m\"\u001b[39m\u001b[38;5;124mtrain1s.csv\u001b[39m\u001b[38;5;124m\"\u001b[39m, index \u001b[38;5;241m=\u001b[39m \u001b[38;5;28;01mNone\u001b[39;00m, header \u001b[38;5;241m=\u001b[39m \u001b[38;5;28;01mNone\u001b[39;00m)\n\u001b[0;32m     10\u001b[0m \u001b[38;5;66;03m# test\u001b[39;00m\n",
      "File \u001b[1;32m~\\AppData\\Local\\Programs\\Python\\Python310\\lib\\site-packages\\pandas\\core\\frame.py:745\u001b[0m, in \u001b[0;36mDataFrame.__init__\u001b[1;34m(self, data, index, columns, dtype, copy)\u001b[0m\n\u001b[0;32m    743\u001b[0m     \u001b[38;5;28;01mif\u001b[39;00m columns \u001b[38;5;129;01mis\u001b[39;00m \u001b[38;5;129;01mnot\u001b[39;00m \u001b[38;5;28;01mNone\u001b[39;00m:\n\u001b[0;32m    744\u001b[0m         columns \u001b[38;5;241m=\u001b[39m ensure_index(columns)\n\u001b[1;32m--> 745\u001b[0m     arrays, columns, index \u001b[38;5;241m=\u001b[39m \u001b[43mnested_data_to_arrays\u001b[49m\u001b[43m(\u001b[49m\n\u001b[0;32m    746\u001b[0m \u001b[43m        \u001b[49m\u001b[38;5;66;43;03m# error: Argument 3 to \"nested_data_to_arrays\" has incompatible\u001b[39;49;00m\n\u001b[0;32m    747\u001b[0m \u001b[43m        \u001b[49m\u001b[38;5;66;43;03m# type \"Optional[Collection[Any]]\"; expected \"Optional[Index]\"\u001b[39;49;00m\n\u001b[0;32m    748\u001b[0m \u001b[43m        \u001b[49m\u001b[43mdata\u001b[49m\u001b[43m,\u001b[49m\n\u001b[0;32m    749\u001b[0m \u001b[43m        \u001b[49m\u001b[43mcolumns\u001b[49m\u001b[43m,\u001b[49m\n\u001b[0;32m    750\u001b[0m \u001b[43m        \u001b[49m\u001b[43mindex\u001b[49m\u001b[43m,\u001b[49m\u001b[43m  \u001b[49m\u001b[38;5;66;43;03m# type: ignore[arg-type]\u001b[39;49;00m\n\u001b[0;32m    751\u001b[0m \u001b[43m        \u001b[49m\u001b[43mdtype\u001b[49m\u001b[43m,\u001b[49m\n\u001b[0;32m    752\u001b[0m \u001b[43m    \u001b[49m\u001b[43m)\u001b[49m\n\u001b[0;32m    753\u001b[0m     mgr \u001b[38;5;241m=\u001b[39m arrays_to_mgr(\n\u001b[0;32m    754\u001b[0m         arrays,\n\u001b[0;32m    755\u001b[0m         columns,\n\u001b[1;32m   (...)\u001b[0m\n\u001b[0;32m    758\u001b[0m         typ\u001b[38;5;241m=\u001b[39mmanager,\n\u001b[0;32m    759\u001b[0m     )\n\u001b[0;32m    760\u001b[0m \u001b[38;5;28;01melse\u001b[39;00m:\n",
      "File \u001b[1;32m~\\AppData\\Local\\Programs\\Python\\Python310\\lib\\site-packages\\pandas\\core\\internals\\construction.py:510\u001b[0m, in \u001b[0;36mnested_data_to_arrays\u001b[1;34m(data, columns, index, dtype)\u001b[0m\n\u001b[0;32m    507\u001b[0m \u001b[38;5;28;01mif\u001b[39;00m is_named_tuple(data[\u001b[38;5;241m0\u001b[39m]) \u001b[38;5;129;01mand\u001b[39;00m columns \u001b[38;5;129;01mis\u001b[39;00m \u001b[38;5;28;01mNone\u001b[39;00m:\n\u001b[0;32m    508\u001b[0m     columns \u001b[38;5;241m=\u001b[39m ensure_index(data[\u001b[38;5;241m0\u001b[39m]\u001b[38;5;241m.\u001b[39m_fields)\n\u001b[1;32m--> 510\u001b[0m arrays, columns \u001b[38;5;241m=\u001b[39m \u001b[43mto_arrays\u001b[49m\u001b[43m(\u001b[49m\u001b[43mdata\u001b[49m\u001b[43m,\u001b[49m\u001b[43m \u001b[49m\u001b[43mcolumns\u001b[49m\u001b[43m,\u001b[49m\u001b[43m \u001b[49m\u001b[43mdtype\u001b[49m\u001b[38;5;241;43m=\u001b[39;49m\u001b[43mdtype\u001b[49m\u001b[43m)\u001b[49m\n\u001b[0;32m    511\u001b[0m columns \u001b[38;5;241m=\u001b[39m ensure_index(columns)\n\u001b[0;32m    513\u001b[0m \u001b[38;5;28;01mif\u001b[39;00m index \u001b[38;5;129;01mis\u001b[39;00m \u001b[38;5;28;01mNone\u001b[39;00m:\n",
      "File \u001b[1;32m~\\AppData\\Local\\Programs\\Python\\Python310\\lib\\site-packages\\pandas\\core\\internals\\construction.py:875\u001b[0m, in \u001b[0;36mto_arrays\u001b[1;34m(data, columns, dtype)\u001b[0m\n\u001b[0;32m    872\u001b[0m     data \u001b[38;5;241m=\u001b[39m [\u001b[38;5;28mtuple\u001b[39m(x) \u001b[38;5;28;01mfor\u001b[39;00m x \u001b[38;5;129;01min\u001b[39;00m data]\n\u001b[0;32m    873\u001b[0m     arr \u001b[38;5;241m=\u001b[39m _list_to_arrays(data)\n\u001b[1;32m--> 875\u001b[0m content, columns \u001b[38;5;241m=\u001b[39m \u001b[43m_finalize_columns_and_data\u001b[49m\u001b[43m(\u001b[49m\u001b[43marr\u001b[49m\u001b[43m,\u001b[49m\u001b[43m \u001b[49m\u001b[43mcolumns\u001b[49m\u001b[43m,\u001b[49m\u001b[43m \u001b[49m\u001b[43mdtype\u001b[49m\u001b[43m)\u001b[49m\n\u001b[0;32m    876\u001b[0m \u001b[38;5;28;01mreturn\u001b[39;00m content, columns\n",
      "File \u001b[1;32m~\\AppData\\Local\\Programs\\Python\\Python310\\lib\\site-packages\\pandas\\core\\internals\\construction.py:975\u001b[0m, in \u001b[0;36m_finalize_columns_and_data\u001b[1;34m(content, columns, dtype)\u001b[0m\n\u001b[0;32m    972\u001b[0m     \u001b[38;5;28;01mraise\u001b[39;00m \u001b[38;5;167;01mValueError\u001b[39;00m(err) \u001b[38;5;28;01mfrom\u001b[39;00m \u001b[38;5;21;01merr\u001b[39;00m\n\u001b[0;32m    974\u001b[0m \u001b[38;5;28;01mif\u001b[39;00m \u001b[38;5;28mlen\u001b[39m(contents) \u001b[38;5;129;01mand\u001b[39;00m contents[\u001b[38;5;241m0\u001b[39m]\u001b[38;5;241m.\u001b[39mdtype \u001b[38;5;241m==\u001b[39m np\u001b[38;5;241m.\u001b[39mobject_:\n\u001b[1;32m--> 975\u001b[0m     contents \u001b[38;5;241m=\u001b[39m \u001b[43m_convert_object_array\u001b[49m\u001b[43m(\u001b[49m\u001b[43mcontents\u001b[49m\u001b[43m,\u001b[49m\u001b[43m \u001b[49m\u001b[43mdtype\u001b[49m\u001b[38;5;241;43m=\u001b[39;49m\u001b[43mdtype\u001b[49m\u001b[43m)\u001b[49m\n\u001b[0;32m    977\u001b[0m \u001b[38;5;28;01mreturn\u001b[39;00m contents, columns\n",
      "File \u001b[1;32m~\\AppData\\Local\\Programs\\Python\\Python310\\lib\\site-packages\\pandas\\core\\internals\\construction.py:1060\u001b[0m, in \u001b[0;36m_convert_object_array\u001b[1;34m(content, dtype)\u001b[0m\n\u001b[0;32m   1057\u001b[0m         arr \u001b[38;5;241m=\u001b[39m maybe_cast_to_datetime(arr, dtype)\n\u001b[0;32m   1058\u001b[0m     \u001b[38;5;28;01mreturn\u001b[39;00m arr\n\u001b[1;32m-> 1060\u001b[0m arrays \u001b[38;5;241m=\u001b[39m [convert(arr) \u001b[38;5;28;01mfor\u001b[39;00m arr \u001b[38;5;129;01min\u001b[39;00m content]\n\u001b[0;32m   1062\u001b[0m \u001b[38;5;28;01mreturn\u001b[39;00m arrays\n",
      "File \u001b[1;32m~\\AppData\\Local\\Programs\\Python\\Python310\\lib\\site-packages\\pandas\\core\\internals\\construction.py:1060\u001b[0m, in \u001b[0;36m<listcomp>\u001b[1;34m(.0)\u001b[0m\n\u001b[0;32m   1057\u001b[0m         arr \u001b[38;5;241m=\u001b[39m maybe_cast_to_datetime(arr, dtype)\n\u001b[0;32m   1058\u001b[0m     \u001b[38;5;28;01mreturn\u001b[39;00m arr\n\u001b[1;32m-> 1060\u001b[0m arrays \u001b[38;5;241m=\u001b[39m [\u001b[43mconvert\u001b[49m\u001b[43m(\u001b[49m\u001b[43marr\u001b[49m\u001b[43m)\u001b[49m \u001b[38;5;28;01mfor\u001b[39;00m arr \u001b[38;5;129;01min\u001b[39;00m content]\n\u001b[0;32m   1062\u001b[0m \u001b[38;5;28;01mreturn\u001b[39;00m arrays\n",
      "File \u001b[1;32m~\\AppData\\Local\\Programs\\Python\\Python310\\lib\\site-packages\\pandas\\core\\internals\\construction.py:1056\u001b[0m, in \u001b[0;36m_convert_object_array.<locals>.convert\u001b[1;34m(arr)\u001b[0m\n\u001b[0;32m   1054\u001b[0m \u001b[38;5;28;01mdef\u001b[39;00m \u001b[38;5;21mconvert\u001b[39m(arr):\n\u001b[0;32m   1055\u001b[0m     \u001b[38;5;28;01mif\u001b[39;00m dtype \u001b[38;5;241m!=\u001b[39m np\u001b[38;5;241m.\u001b[39mdtype(\u001b[38;5;124m\"\u001b[39m\u001b[38;5;124mO\u001b[39m\u001b[38;5;124m\"\u001b[39m):\n\u001b[1;32m-> 1056\u001b[0m         arr \u001b[38;5;241m=\u001b[39m \u001b[43mlib\u001b[49m\u001b[38;5;241;43m.\u001b[39;49m\u001b[43mmaybe_convert_objects\u001b[49m\u001b[43m(\u001b[49m\u001b[43marr\u001b[49m\u001b[43m)\u001b[49m\n\u001b[0;32m   1057\u001b[0m         arr \u001b[38;5;241m=\u001b[39m maybe_cast_to_datetime(arr, dtype)\n\u001b[0;32m   1058\u001b[0m     \u001b[38;5;28;01mreturn\u001b[39;00m arr\n",
      "\u001b[1;31mKeyboardInterrupt\u001b[0m: "
     ]
    }
   ],
   "source": [
    "# # train\n",
    "# listka = []\n",
    "\n",
    "# for s in spectrograms_train:\n",
    "#     listka.append(s_vectorize1(s))\n",
    "\n",
    "# data = pd.DataFrame(listka)\n",
    "# data.to_csv(\"train1s.csv\", index = None, header = None)\n",
    "\n",
    "# # test\n",
    "# listka = []\n",
    "\n",
    "# for s in spectrograms_test:\n",
    "#     listka.append(s_vectorize1(s))\n",
    "\n",
    "# data = pd.DataFrame(listka)\n",
    "# data.to_csv(\"test1s.csv\", index = None, header = None)\n",
    "\n",
    "# # valid\n",
    "# listka = []\n",
    "\n",
    "# for s in spectrograms_valid:\n",
    "#     listka.append(s_vectorize1(s))\n",
    "\n",
    "# data = pd.DataFrame(listka)\n",
    "# data.to_csv(\"valid1s.csv\", index = None, header = None)"
   ]
  },
  {
   "cell_type": "code",
   "execution_count": null,
   "id": "28c47260",
   "metadata": {},
   "outputs": [],
   "source": []
  },
  {
   "cell_type": "markdown",
   "id": "937fb120",
   "metadata": {},
   "source": [
    "### VECTORIZATION 2"
   ]
  },
  {
   "cell_type": "code",
   "execution_count": 8,
   "id": "9e1914aa",
   "metadata": {},
   "outputs": [],
   "source": [
    "# # train\n",
    "# listka = []\n",
    "\n",
    "# for s in spectrograms_train:\n",
    "#     listka.append(s_vectorize2(s))\n",
    "\n",
    "# data = pd.DataFrame(listka)\n",
    "# data.to_csv(\"train2s.csv\", index = None, header = None)\n",
    "\n",
    "# test\n",
    "listka = []\n",
    "\n",
    "for s in spectrograms_test:\n",
    "    listka.append(s_vectorize2(s))\n",
    "\n",
    "data = pd.DataFrame(listka)\n",
    "data.to_csv(\"test2s.csv\", index = None, header = None)\n",
    "\n",
    "# valid\n",
    "listka = []\n",
    "\n",
    "for s in spectrograms_valid:\n",
    "    listka.append(s_vectorize2(s))\n",
    "\n",
    "data = pd.DataFrame(listka)\n",
    "data.to_csv(\"valid2s.csv\", index = None, header = None)"
   ]
  },
  {
   "cell_type": "markdown",
   "id": "cc44b8aa",
   "metadata": {},
   "source": [
    "### VECTORIZATION 3"
   ]
  },
  {
   "cell_type": "code",
   "execution_count": 12,
   "id": "c2df2200",
   "metadata": {},
   "outputs": [],
   "source": [
    "# train\n",
    "listka = []\n",
    "\n",
    "for s in spectrograms_train:\n",
    "    listka.append(s_vectorize3(s))\n",
    "\n",
    "data = pd.DataFrame(listka)\n",
    "data.to_csv(\"train3s.csv\", index = None, header = None)\n",
    "\n",
    "# test\n",
    "listka = []\n",
    "\n",
    "for s in spectrograms_test:\n",
    "    listka.append(s_vectorize3(s))\n",
    "\n",
    "data = pd.DataFrame(listka)\n",
    "data.to_csv(\"test3s.csv\", index = None, header = None)\n",
    "\n",
    "# valid\n",
    "listka = []\n",
    "\n",
    "for s in spectrograms_valid:\n",
    "    listka.append(s_vectorize3(s))\n",
    "\n",
    "data = pd.DataFrame(listka)\n",
    "data.to_csv(\"valid3s.csv\", index = None, header = None)\n",
    "\n"
   ]
  },
  {
   "cell_type": "code",
   "execution_count": null,
   "id": "8200ddf3",
   "metadata": {},
   "outputs": [],
   "source": []
  },
  {
   "cell_type": "code",
   "execution_count": null,
   "id": "ac463cd2",
   "metadata": {},
   "outputs": [],
   "source": []
  }
 ],
 "metadata": {
  "kernelspec": {
   "display_name": "Python 3 (ipykernel)",
   "language": "python",
   "name": "python3"
  },
  "language_info": {
   "codemirror_mode": {
    "name": "ipython",
    "version": 3
   },
   "file_extension": ".py",
   "mimetype": "text/x-python",
   "name": "python",
   "nbconvert_exporter": "python",
   "pygments_lexer": "ipython3",
   "version": "3.10.8"
  }
 },
 "nbformat": 4,
 "nbformat_minor": 5
}
