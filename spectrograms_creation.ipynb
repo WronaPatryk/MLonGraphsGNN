{
 "cells": [
  {
   "cell_type": "markdown",
   "id": "b53e6469",
   "metadata": {},
   "source": [
    "# Audio files to spectrograms transformation\n"
   ]
  },
  {
   "cell_type": "code",
   "execution_count": 1,
   "id": "b59ff414",
   "metadata": {},
   "outputs": [],
   "source": [
    "import pandas as pd\n",
    "import numpy as np\n",
    "import scipy\n",
    "import numpy\n",
    "\n",
    "from scipy import signal\n",
    "from scipy.io import wavfile\n",
    "import matplotlib.pyplot as plt\n",
    "import random\n",
    "import librosa\n",
    "import matplotlib.image"
   ]
  },
  {
   "cell_type": "markdown",
   "id": "e8b42265",
   "metadata": {},
   "source": [
    "### Loading data"
   ]
  },
  {
   "cell_type": "code",
   "execution_count": 2,
   "id": "49dd9fc5",
   "metadata": {},
   "outputs": [],
   "source": [
    "\n",
    "\n",
    "# vl - validation list from kaggle, used to load seach audio file (in our case it will be a training data)\n",
    "valid_list = list(pd.read_csv(\"validation_list.txt\", header = None).iloc[:,0])\n",
    "# tl - testing list from kaggle, used to load seach audio file\n",
    "test_list = list(pd.read_csv(\"testing_list.txt\",header = None).iloc[:,0])\n",
    "# tl - testing list from kaggle, used to load seach audio file\n",
    "train_list = list(pd.read_csv(\"training_list.txt\",header = None).iloc[:,0])"
   ]
  },
  {
   "cell_type": "code",
   "execution_count": 3,
   "id": "abf39eff",
   "metadata": {},
   "outputs": [
    {
     "data": {
      "text/plain": [
       "['yes/004ae714_nohash_0.wav',\n",
       " 'yes/004ae714_nohash_1.wav',\n",
       " 'yes/00f0204f_nohash_0.wav',\n",
       " 'yes/00f0204f_nohash_1.wav']"
      ]
     },
     "execution_count": 3,
     "metadata": {},
     "output_type": "execute_result"
    }
   ],
   "source": [
    "train_list[0:4]"
   ]
  },
  {
   "cell_type": "code",
   "execution_count": null,
   "id": "74880ad7",
   "metadata": {},
   "outputs": [],
   "source": []
  },
  {
   "cell_type": "markdown",
   "id": "4adfd5e5",
   "metadata": {},
   "source": [
    "### Spectrograms"
   ]
  },
  {
   "cell_type": "code",
   "execution_count": 4,
   "id": "0ea39bcd",
   "metadata": {},
   "outputs": [
    {
     "name": "stderr",
     "output_type": "stream",
     "text": [
      "A subdirectory or file spectrograms already exists.\n",
      "A subdirectory or file spectrograms\\yes already exists.\n",
      "A subdirectory or file spectrograms\\no already exists.\n",
      "A subdirectory or file spectrograms\\up already exists.\n",
      "A subdirectory or file spectrograms\\down already exists.\n",
      "A subdirectory or file spectrograms\\left already exists.\n",
      "A subdirectory or file spectrograms\\right already exists.\n",
      "A subdirectory or file spectrograms\\on already exists.\n",
      "A subdirectory or file spectrograms\\off already exists.\n",
      "A subdirectory or file spectrograms\\stop already exists.\n",
      "A subdirectory or file spectrograms\\go already exists.\n"
     ]
    }
   ],
   "source": [
    "# creation of necessary directories to save spectrograms\n",
    "!mkdir spectrograms\n",
    "!mkdir spectrograms\\yes\n",
    "!mkdir spectrograms\\no\n",
    "!mkdir spectrograms\\up\n",
    "!mkdir spectrograms\\down\n",
    "!mkdir spectrograms\\left\n",
    "!mkdir spectrograms\\right\n",
    "!mkdir spectrograms\\on\n",
    "!mkdir spectrograms\\off\n",
    "!mkdir spectrograms\\stop\n",
    "!mkdir spectrograms\\go"
   ]
  },
  {
   "cell_type": "code",
   "execution_count": 5,
   "id": "d973b1fe",
   "metadata": {},
   "outputs": [],
   "source": [
    "import warnings\n",
    "warnings.simplefilter('ignore')"
   ]
  },
  {
   "cell_type": "code",
   "execution_count": 6,
   "id": "b4396a3b",
   "metadata": {},
   "outputs": [
    {
     "name": "stdout",
     "output_type": "stream",
     "text": [
      "(129, 71)\n"
     ]
    },
    {
     "data": {
      "image/png": "[encoded data removed]",
      "text/plain": [
       "<Figure size 640x480 with 1 Axes>"
      ]
     },
     "metadata": {},
     "output_type": "display_data"
    }
   ],
   "source": [
    "# exemplary spectrogram coming from an audio file\n",
    "path = test_list[14]\n",
    "\n",
    "sample_rate, samples = wavfile.read(\"audio/\" + path)\n",
    "frequencies, times, spectrogram = signal.spectrogram(samples, sample_rate)\n",
    "print(spectrogram.shape)\n",
    "plt.imshow(spectrogram[0:64, 0:64])\n",
    "plt.ylabel('Frequency [Hz]')\n",
    "plt.xlabel('Time [sec]')\n",
    "# plt.legend(loc=\"upper right\")\n",
    "plt.show()"
   ]
  },
  {
   "cell_type": "markdown",
   "id": "70b26e29",
   "metadata": {},
   "source": [
    "### TESTING AUDIO FILES - time stretching and transformation to spectrograms 64 x 64"
   ]
  },
  {
   "cell_type": "code",
   "execution_count": 8,
   "id": "76defe7c",
   "metadata": {},
   "outputs": [],
   "source": [
    "# TIME STRETCHING OF ALL AUDIO FILES TO 64 s, saving spectrorams as 64 x 64 files \n",
    "# - frequency is also reduced to significant values comprised within 64 pixels\n",
    "\n",
    "REFERENCE_LENGTH = 14550.0 # to force the time axis of an audio file to be the same for all audio files \n",
    "# (enfording the same audio duration after time stretching)\n",
    "\n",
    "count = 0\n",
    "for path in test_list:\n",
    "    \n",
    "    path_ = \"audio/\" + path\n",
    "    \n",
    "    # loading audio file\n",
    "    song, fs = librosa.load(path_)\n",
    "    \n",
    "    # stretching to Time duration equivalent to 64 pixels\n",
    "    song_stretched = librosa.effects.time_stretch(song, rate=song.shape[0]/REFERENCE_LENGTH)\n",
    "    frequencies, times, spectrogram = signal.spectrogram(song_stretched, fs)\n",
    "    \n",
    "    # spectorgram path\n",
    "    arr = path_.split(\"/\")\n",
    "    spectrogram_path = \"spectrograms/\" + arr[1] + \"/\" + arr[2][:-4] + \".png\"\n",
    "    \n",
    "    # scaling spectrograms to 64 x 64 pixels & 0 - 255 integers\n",
    "    spectrogram = spectrogram[0:64, 0:64]\n",
    "    spectrogram = (np.round(spectrogram/(spectrogram.max()/255.0))).astype(np.uint8)\n",
    "    \n",
    "    # saving spectrogram\n",
    "    matplotlib.image.imsave(spectrogram_path, spectrogram)\n"
   ]
  },
  {
   "cell_type": "markdown",
   "id": "aac202bd",
   "metadata": {},
   "source": [
    "### TRAINING AUDIO FILES - time stretching ---- and transformation to spectrograms 64 x 64"
   ]
  },
  {
   "cell_type": "code",
   "execution_count": 11,
   "id": "31cb1754",
   "metadata": {},
   "outputs": [],
   "source": [
    "# TIME STRETCHING OF ALL AUDIO FILES TO 64 s, saving spectrorams as 64 x 64 files \n",
    "# - frequency is also reduced to significant values comprised within 64 pixels\n",
    "\n",
    "REFERENCE_LENGTH = 14550.0\n",
    "\n",
    "for path in valid_list:\n",
    "\n",
    "    \n",
    "    path_ = \"audio/\" + path\n",
    "    \n",
    "    # loading audio file\n",
    "    song, fs = librosa.load(path_)\n",
    "    \n",
    "    # stretching to Time duration equivalent to 64 pixels\n",
    "    song_stretched = librosa.effects.time_stretch(song, rate=song.shape[0]/REFERENCE_LENGTH)\n",
    "    frequencies, times, spectrogram = signal.spectrogram(song_stretched, fs)\n",
    "    \n",
    "    # spectorgram path\n",
    "    arr = path_.split(\"/\")\n",
    "    spectrogram_path = \"spectrograms/\" + arr[1] + \"/\" + arr[2][:-4] + \".png\"\n",
    "\n",
    "    # scaling spectrograms to 64 x 64 pixels & 0 - 255 integers\n",
    "    spectrogram = spectrogram[0:64, 0:64]\n",
    "    spectrogram = (np.round(spectrogram/(spectrogram.max()/255.0))).astype(np.uint8)\n",
    "    \n",
    "    # saving spectrogram\n",
    "    matplotlib.image.imsave(spectrogram_path, spectrogram)\n"
   ]
  },
  {
   "cell_type": "code",
   "execution_count": 12,
   "id": "c15715fc",
   "metadata": {},
   "outputs": [],
   "source": [
    "# TIME STRETCHING OF ALL AUDIO FILES TO 64 s, saving spectrorams as 64 x 64 files \n",
    "# - frequency is also reduced to significant values comprised within 64 pixels\n",
    "\n",
    "REFERENCE_LENGTH = 14550.0\n",
    "\n",
    "for path in train_list:\n",
    "\n",
    "    \n",
    "    path_ = \"audio/\" + path\n",
    "    \n",
    "    # loading audio file\n",
    "    song, fs = librosa.load(path_)\n",
    "    \n",
    "    # stretching to Time duration equivalent to 64 pixels\n",
    "    song_stretched = librosa.effects.time_stretch(song, rate=song.shape[0]/REFERENCE_LENGTH)\n",
    "    frequencies, times, spectrogram = signal.spectrogram(song_stretched, fs)\n",
    "    \n",
    "    # spectorgram path\n",
    "    arr = path_.split(\"/\")\n",
    "    spectrogram_path = \"spectrograms/\" + arr[1] + \"/\" + arr[2][:-4] + \".png\"\n",
    "\n",
    "    # scaling spectrograms to 64 x 64 pixels & 0 - 255 integers\n",
    "    spectrogram = spectrogram[0:64, 0:64]\n",
    "    spectrogram = (np.round(spectrogram/(spectrogram.max()/255.0))).astype(np.uint8)\n",
    "    \n",
    "    # saving spectrogram\n",
    "    matplotlib.image.imsave(spectrogram_path, spectrogram)\n"
   ]
  },
  {
   "cell_type": "markdown",
   "id": "d0aeba30",
   "metadata": {},
   "source": [
    "### Saving lists to read spectrograms"
   ]
  },
  {
   "cell_type": "code",
   "execution_count": 13,
   "id": "b7a81127",
   "metadata": {},
   "outputs": [],
   "source": [
    "spectr_test_list = []\n",
    "\n",
    "for el in test_list:\n",
    "    el_ = \"audio/\" + el\n",
    "    arr = el_.split(\"/\")\n",
    "    spectrogram_path = \"spectrograms/\" + arr[1] + \"/\" + arr[2][:-4] + \".png\"\n",
    "    spectr_test_list.append(spectrogram_path)\n",
    "\n",
    "spectr_train_list = []\n",
    "\n",
    "for el in train_list:\n",
    "    el_ = \"audio/\" + el\n",
    "    arr = el_.split(\"/\")\n",
    "    spectrogram_path = \"spectrograms/\" + arr[1] + \"/\" + arr[2][:-4] + \".png\"\n",
    "    spectr_train_list.append(spectrogram_path)\n",
    "    \n",
    "spectr_valid_list = []\n",
    "\n",
    "for el in valid_list:\n",
    "    el_ = \"audio/\" + el\n",
    "    arr = el_.split(\"/\")\n",
    "    spectrogram_path = \"spectrograms/\" + arr[1] + \"/\" + arr[2][:-4] + \".png\"\n",
    "    spectr_valid_list.append(spectrogram_path)\n"
   ]
  },
  {
   "cell_type": "code",
   "execution_count": 14,
   "id": "5418c850",
   "metadata": {},
   "outputs": [
    {
     "data": {
      "text/plain": [
       "['spectrograms/yes/004ae714_nohash_0.png',\n",
       " 'spectrograms/yes/004ae714_nohash_1.png',\n",
       " 'spectrograms/yes/00f0204f_nohash_0.png',\n",
       " 'spectrograms/yes/00f0204f_nohash_1.png',\n",
       " 'spectrograms/yes/00f0204f_nohash_2.png']"
      ]
     },
     "execution_count": 14,
     "metadata": {},
     "output_type": "execute_result"
    }
   ],
   "source": [
    "spectr_train_list[0:5]"
   ]
  },
  {
   "cell_type": "code",
   "execution_count": 15,
   "id": "ec59b2f9",
   "metadata": {},
   "outputs": [],
   "source": [
    "\n",
    "pd.DataFrame(spectr_train_list).to_csv(\"spectr_train_list.txt\")\n",
    "pd.DataFrame(spectr_test_list).to_csv(\"spectr_test_list.txt\")\n",
    "pd.DataFrame(spectr_valid_list).to_csv(\"spectr_valid_list.txt\")"
   ]
  },
  {
   "cell_type": "code",
   "execution_count": 16,
   "id": "8131c4cf",
   "metadata": {},
   "outputs": [],
   "source": [
    "# saving the lists to spectrograms, used later during respective models' training and evaluation\n",
    "spectr_train_list = pd.read_csv(\"spectr_train_list.txt\", index_col = 0).iloc[:,0].values.tolist()\n",
    "spectr_test_list = pd.read_csv(\"spectr_test_list.txt\", index_col = 0).iloc[:,0].values.tolist()\n",
    "spectr_valid_list = pd.read_csv(\"spectr_valid_list.txt\", index_col = 0).iloc[:,0].values.tolist()"
   ]
  },
  {
   "cell_type": "code",
   "execution_count": 17,
   "id": "b80e32e9",
   "metadata": {},
   "outputs": [
    {
     "name": "stdout",
     "output_type": "stream",
     "text": [
      "['spectrograms/yes/004ae714_nohash_0.png', 'spectrograms/yes/004ae714_nohash_1.png', 'spectrograms/yes/00f0204f_nohash_0.png', 'spectrograms/yes/00f0204f_nohash_1.png', 'spectrograms/yes/00f0204f_nohash_2.png']\n",
      "['spectrograms/down/022cd682_nohash_0.png', 'spectrograms/down/096456f9_nohash_0.png', 'spectrograms/down/0c40e715_nohash_0.png', 'spectrograms/down/0ea0e2f4_nohash_0.png', 'spectrograms/down/0f250098_nohash_0.png']\n",
      "['spectrograms/down/099d52ad_nohash_0.png', 'spectrograms/down/099d52ad_nohash_1.png', 'spectrograms/down/099d52ad_nohash_2.png', 'spectrograms/down/099d52ad_nohash_3.png', 'spectrograms/down/099d52ad_nohash_4.png']\n"
     ]
    }
   ],
   "source": [
    "print(spectr_train_list[0:5])\n",
    "print(spectr_test_list[0:5])\n",
    "print(spectr_valid_list[0:5])"
   ]
  }
 ],
 "metadata": {
  "kernelspec": {
   "display_name": "Python 3 (ipykernel)",
   "language": "python",
   "name": "python3"
  },
  "language_info": {
   "codemirror_mode": {
    "name": "ipython",
    "version": 3
   },
   "file_extension": ".py",
   "mimetype": "text/x-python",
   "name": "python",
   "nbconvert_exporter": "python",
   "pygments_lexer": "ipython3",
   "version": "3.10.8"
  }
 },
 "nbformat": 4,
 "nbformat_minor": 5
}
